{
 "cells": [
  {
   "cell_type": "markdown",
   "id": "50698780-179c-49cd-b133-07079fc9932b",
   "metadata": {},
   "source": [
    "**For most part, you may want to call SC Track to batch process some images, and at this point our API will be more suitable than command-line tools.**\n",
    "\n",
    "here is the document about how to use TC-Track's API to do the tracking."
   ]
  },
  {
   "cell_type": "code",
   "execution_count": null,
   "id": "c6a6cd36-5a31-45ca-9fa6-213ad487b476",
   "metadata": {},
   "outputs": [],
   "source": [
    "# if you don't need to change anything, just do like this:\n",
    "\n",
    "from SCTrack import track\n",
    "\n",
    "\n",
    "image = './examples/mask_annotation/01.tif'\n",
    "annotation = './examples/mask_annotation/SEG.tif'\n",
    "\n",
    "track.start_track(fannotation=annotation, \n",
    "                  fout='./examples/mask_annotation/', \n",
    "                  basename='test', \n",
    "                  fimage=image,\n",
    "                  export_visualization=True,\n",
    "                  track_to_json=True)\n",
    "\n",
    "# fannotation: annotation filepath\n",
    "# fout: tracking output save path\n",
    "# basename: anything you want, this value will used for json annotation file, make it as the frame filename, for example,  if basename='test', \n",
    "#           filename will like test-0000.png, test-0001.png ..., e.g.\n",
    "# export_visualization: whether or not save the tracking visualization result.\n",
    "# track_to_json: whether or not save the TrackTree."
   ]
  },
  {
   "cell_type": "code",
   "execution_count": null,
   "id": "deef71ee-0cc2-4ac8-912f-8824d87f5a6c",
   "metadata": {},
   "outputs": [],
   "source": [
    "# if you need to change the config file, please do like this:\n",
    "\n",
    "from SCTrack import config\n",
    "\n",
    "config.AVAILABLE_RANGE_COEFFICIENT = 2\n",
    "config.GAP_WINDOW_LEN = 10\n",
    "...\n",
    "config.PROB_THRESHOLD = 0.7\n"
   ]
  },
  {
   "cell_type": "code",
   "execution_count": 2,
   "id": "9d952679-d367-40df-a8ba-0a15ec001fc7",
   "metadata": {},
   "outputs": [],
   "source": [
    "# Here are the complete configuration options，the detail means please see the source code and the paper.\n",
    "\n",
    "\n",
    "AVAILABLE_RANGE_COEFFICIENT: float = 1.5  # The available range coefficient of candidate screening for matching algorithms\n",
    "\n",
    "RAW_INPUT_IMAGE_SIZE = (2048, 2048)   # * image size (width, height)\n",
    "\n",
    "GAP_WINDOW_LEN = 20  # Maximum number of lost track\n",
    "\n",
    "ENTER_DIVISION_THRESHOLD = 50  # Starting from the completion of cell division, the second division is not allowed until the value is exceeded\n",
    "\n",
    "USING_IMAGE_FOR_TRACKING = False   # * Using additional image information for tracking\n",
    "\n",
    "RECORD_SPEED: bool = False    # *  Record tracking speed\n",
    "\n",
    "SMOOTH_WINDOW_LEN = 10  # Window length of smooth classification algorithm\n",
    "\n",
    "TRACKING_CHECK_WINDOW_LEN: int = 20  # Tracking algorithm backtracking window length\n",
    "\n",
    "PROB_THRESHOLD: float = 0.6  # Probability threshold of smooth classification algorithm\n",
    "\n",
    "N_CLASS = 4    # *  Number of annotation categories\n",
    "\n",
    "CLASS_NAME: list | None = ['G1', 'S', 'G2', 'M']   # *  Class name list\n",
    "# CLASS_NAME = None\n",
    "\n",
    "EXPORT_TRACKING_VISUALIZATION = True"
   ]
  },
  {
   "cell_type": "markdown",
   "id": "e518c7d4-873f-4ba4-8f2c-a9e7836ca019",
   "metadata": {},
   "source": [
    "-------------------------"
   ]
  },
  {
   "cell_type": "markdown",
   "id": "426c7f6d-a3d2-417c-b335-8ea168279ba9",
   "metadata": {},
   "source": [
    "*Here is the detail of the [API documents](../html/index.html) , you can [click here](../html/index.html) to see the function and class detail information in this page.*"
   ]
  },
  {
   "cell_type": "code",
   "execution_count": null,
   "id": "8cdbba58-2aa0-449f-b48a-a85baf1f12c8",
   "metadata": {},
   "outputs": [],
   "source": []
  }
 ],
 "metadata": {
  "kernelspec": {
   "display_name": "sctrack",
   "language": "python",
   "name": "sctrack"
  },
  "language_info": {
   "codemirror_mode": {
    "name": "ipython",
    "version": 3
   },
   "file_extension": ".py",
   "mimetype": "text/x-python",
   "name": "python",
   "nbconvert_exporter": "python",
   "pygments_lexer": "ipython3",
   "version": "3.11.3"
  }
 },
 "nbformat": 4,
 "nbformat_minor": 5
}
