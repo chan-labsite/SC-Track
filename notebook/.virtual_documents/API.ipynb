# if you don't need to change anything, just do like this:

from SCTrack import track


image = './examples/mask_annotation/01.tif'
annotation = './examples/mask_annotation/SEG.tif'

track.start_track(fannotation=annotation, 
                  fout='./examples/mask_annotation/', 
                  basename='test', 
                  fimage=image,
                  export_visualization=True,
                  track_to_json=True)

# fannotation: annotation filepath
# fout: tracking output save path
# basename: anything you want, this value will used for json annotation file, make it as the frame filename, for example,  if basename='test', 
#           filename will like test-0000.png, test-0001.png ..., e.g.
# export_visualization: whether or not save the tracking visualization result.
# track_to_json: whether or not save the TrackTree.


# if you need to change the config file, please do like this:

from SCTrack import config

config.AVAILABLE_RANGE_COEFFICIENT = 2
config.GAP_WINDOW_LEN = 10
...
config.PROB_THRESHOLD = 0.7



# Here are the complete configuration options，the detail means please see the source code and the paper.


AVAILABLE_RANGE_COEFFICIENT: float = 1.5  # The available range coefficient of candidate screening for matching algorithms

RAW_INPUT_IMAGE_SIZE = (2048, 2048)   # * image size (width, height)

GAP_WINDOW_LEN = 20  # Maximum number of lost track

ENTER_DIVISION_THRESHOLD = 50  # Starting from the completion of cell division, the second division is not allowed until the value is exceeded

USING_IMAGE_FOR_TRACKING = False   # * Using additional image information for tracking

RECORD_SPEED: bool = False    # *  Record tracking speed

SMOOTH_WINDOW_LEN = 10  # Window length of smooth classification algorithm

TRACKING_CHECK_WINDOW_LEN: int = 20  # Tracking algorithm backtracking window length

PROB_THRESHOLD: float = 0.6  # Probability threshold of smooth classification algorithm

N_CLASS = 4    # *  Number of annotation categories

CLASS_NAME: list | None = ['G1', 'S', 'G2', 'M']   # *  Class name list
# CLASS_NAME = None

EXPORT_TRACKING_VISUALIZATION = True
