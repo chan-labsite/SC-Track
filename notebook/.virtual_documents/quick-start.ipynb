# 1. for the mask format

import tifffile
import matplotlib.pyplot as plt

SEG = './examples/mask_annotation/SEG.tif'

mask = tifffile.imread(SEG)
mask.shape


plt.axis('off')
plt.imshow(mask[0], cmap='gray')  # show first frame of mask


# for the mask image, each segmented instance must has the unique id as the mask pixel values. 
# 0 is the background pixel value, so that the instance id cannot been zero.
import numpy as np

np.unique(mask[0])


# 2. for json file format

# this format can be read by vgg image annotator, the structure as the follow:


# regions_tmp indicate each segmented instance in a single frame, "all_points_x" and "all_points_y" are the coordinates for the segmentation contours.
# in the most case,  "name" value is "polygon", but if you using ellipse to draw the mask, the "name" value is "ellipse", and  "shape_attributes" no 
# longer include "all_points_x" and "all_points_y"，but instead is "rx", "ry", "cx", "cy", "theta". 
# "region_attributes" store the extend information, if you have the classification requirement, save the classification information to  "cell_type". 
# don't need to pay attention to the  "cell_id" and "track_id", it will generate in runtime. 
regions_tmp = {
    "shape_attributes":
        {
            "name": "polygon",
            "all_points_x": ['x1', 'x2', ..., 'xn'],
            "all_points_y": ['y1', 'y2', ..., 'yn']
        },
    "region_attributes":
        {
            "cell_type": None,
            "cell_id": None,
            "track_id": None,
        }
}


# frame_tmp saves all segmented instance information in one frame, "size" = image width * image height. note: for the filename it's not necessary
# if you just want to run SC-Track, but if you want to the json  can be import by vgg image annotator, you mast make the finame endswith `.png`, 
# tiff is not support.
width = 1024
height = 1024
frame_tmp = {
        "filename": 'example.png',
        "size": width * height,
        "regions": [regions_tmp, ..., regions_tmp],
        "file_attributes": {}
    }

json_file = {
    'example_1.png': frame_tmp,
    'example_2.png': frame_tmp,
    # ...
    'example_n.png': frame_tmp
}


# here is a sample of a real annotation file，you can see the detail about the format.

import json
from pprint import pprint

file = "./examples/json_annotation/SEG.json"
with open(file) as f:
    annotation = json.load(f)
pprint(annotation.keys())


pprint(annotation[list(annotation.keys())[0]].keys())


pprint(annotation[list(annotation.keys())[0]]["regions"])


regions = annotation[list(annotation.keys())[0]]["regions"]
pprint(len(regions))
pprint(regions[0])


pprint(annotation[list(annotation.keys())[0]]["size"])


pprint(annotation[list(annotation.keys())[0]]["filename"])


# here is a running example using mask annotation:

get_ipython().getoutput("sctrack -i ./examples/mask_annotation/01.tif -a ./examples/mask_annotation/SEG.tif")


import os

os.listdir('./examples/mask_annotation/')


os.listdir('./examples/mask_annotation/tracking_output')


# here is a running example using json annotation:

get_ipython().getoutput("sctrack -i ./examples/json_annotation/01.tif -a ./examples/json_annotation/SEG.json")


# now, you can see the visualization, you can re-run this cell to see the GIF.
from IPython import display
import matplotlib.pyplot as plt
filepath = './examples/mask_annotation/tracking_output/track_visualization.tif'
images = map(tifffile.imread, [os.path.join(filepath, i) for i in os.listdir(filepath)])
fig, ax = plt.subplots()
for im in images:
    plt.imshow(im)
    display.clear_output(wait=True)
    plt.show()


# here show the detail of track.csv

import pandas as pd

table = "./examples/mask_annotation/tracking_output/track.csv"

data = pd.read_csv(table)

data.head(10)


data[-10: ]


table2 = "./examples/json_annotation/tracking_output/track.csv"

data2 = pd.read_csv(table2)

data2.head(10)
