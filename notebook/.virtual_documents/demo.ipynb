import tifffile

image = tifffile.imread(r"G:\raw data\demo\image.tif")

mask = tifffile.imread(r"G:\raw data\demo\mask.tif")

print(image.shape)
print(mask.shape)


import matplotlib.pyplot as plt

plt.imshow(image[0], cmap='gray')
plt.axis('off')


plt.imshow(mask[0], cmap='gray')
plt.axis('off')


import numpy as np

np.unique(mask[0])


# Please do not run this command directly unless you are using it directly in jupyter and have switched to the correct environment. 
# The recommended way is to copy this command to the terminal and run it (remember to remove `!`)

get_ipython().getoutput("sctrack -i "G:\raw data\demo\image.tif" -a "G:\raw data\demo\mask.tif"")


get_ipython().getoutput("sctrack -i "G:\raw data\demo\image.tif" -a "G:\raw data\demo\annotation.json"")



